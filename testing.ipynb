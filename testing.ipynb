{
  "cells": [
    {
      "cell_type": "markdown",
      "metadata": {
        "id": "view-in-github",
        "colab_type": "text"
      },
      "source": [
        "<a href=\"https://colab.research.google.com/github/John-Bugler/Python-Google-colab/blob/main/testing.ipynb\" target=\"_parent\"><img src=\"https://colab.research.google.com/assets/colab-badge.svg\" alt=\"Open In Colab\"/></a>"
      ]
    },
    {
      "cell_type": "code",
      "execution_count": null,
      "metadata": {
        "colab": {
          "base_uri": "https://localhost:8080/"
        },
        "id": "u8-V8ubdMLEE",
        "outputId": "be87674b-5179-4c0e-c5f8-eab8a8e34eec"
      },
      "outputs": [
        {
          "output_type": "stream",
          "name": "stdout",
          "text": [
            "row 1 \n",
            "row 2\n",
            "\n",
            "row 3\n"
          ]
        },
        {
          "output_type": "execute_result",
          "data": {
            "text/plain": [
              "10"
            ]
          },
          "metadata": {},
          "execution_count": 20
        }
      ],
      "source": [
        "# start comment 1+1\n",
        "print(\"row 1 \\nrow 2\")   # \\n  ... odradkovani\n",
        "print(\"\")                # prazdna radka\n",
        "print(\"row 3\")\n",
        "\n",
        "5+5"
      ]
    },
    {
      "cell_type": "code",
      "source": [
        "vloz = input(\"Napis neco :\")\n",
        "print(vloz)"
      ],
      "metadata": {
        "colab": {
          "base_uri": "https://localhost:8080/"
        },
        "id": "gXRj0EQ6rOaU",
        "outputId": "7ecabfc6-e8ca-43eb-93c3-7d8465627a3a"
      },
      "execution_count": null,
      "outputs": [
        {
          "output_type": "stream",
          "name": "stdout",
          "text": [
            "Napis neco :ololop\n",
            "ololop\n"
          ]
        }
      ]
    },
    {
      "cell_type": "code",
      "source": [
        "# vypise datovy typ promenne\\\n",
        "print(\"lolo=\")\n",
        "type (\"lolo\")\n"
      ],
      "metadata": {
        "colab": {
          "base_uri": "https://localhost:8080/"
        },
        "id": "nN-1KJFVGmkH",
        "outputId": "59618fa7-2d36-4967-b7b5-2ea688fb2cb2"
      },
      "execution_count": null,
      "outputs": [
        {
          "output_type": "stream",
          "name": "stdout",
          "text": [
            "lolo=\n"
          ]
        },
        {
          "output_type": "execute_result",
          "data": {
            "text/plain": [
              "str"
            ]
          },
          "metadata": {},
          "execution_count": 26
        }
      ]
    },
    {
      "cell_type": "code",
      "source": [
        "print(\"1=\")\n",
        "type (1)"
      ],
      "metadata": {
        "colab": {
          "base_uri": "https://localhost:8080/"
        },
        "id": "KdSn-L27rte5",
        "outputId": "4ac845bd-2fdf-4989-a4b2-9f1f2a1723eb"
      },
      "execution_count": null,
      "outputs": [
        {
          "output_type": "stream",
          "name": "stdout",
          "text": [
            "1=\n"
          ]
        },
        {
          "output_type": "execute_result",
          "data": {
            "text/plain": [
              "int"
            ]
          },
          "metadata": {},
          "execution_count": 25
        }
      ]
    },
    {
      "cell_type": "code",
      "source": [
        "# vsechna pismena velka\n",
        "print(\"tralala pytel print\".upper())\n",
        "# prvni pismeno velke\n",
        "print(\"tralala pytel print\".title())\n",
        "# pocet retezcu\n",
        "\"tralala pytel print\".count('l')"
      ],
      "metadata": {
        "colab": {
          "base_uri": "https://localhost:8080/"
        },
        "id": "OHcaZ-GiGgmB",
        "outputId": "dc073a37-8399-42d2-e8d1-dbf40a5ce386"
      },
      "execution_count": null,
      "outputs": [
        {
          "output_type": "stream",
          "name": "stdout",
          "text": [
            "TRALALA PYTEL PRINT\n",
            "Tralala Pytel Print\n"
          ]
        },
        {
          "output_type": "execute_result",
          "data": {
            "text/plain": [
              "3"
            ]
          },
          "metadata": {},
          "execution_count": 5
        }
      ]
    },
    {
      "cell_type": "code",
      "source": [
        "cislo = input(\"Vloz cislo :\")  # defaultne uklada jako retezec\n",
        "print(cislo)\n",
        "# pretypovani stringu na integer, stejne tak existuji dalsi pretypovaci funkce jako float(), str()\n",
        "float_cislo = float(cislo)\n",
        "result = 100/float_cislo\n",
        "print(result)\n",
        "\n",
        "#type(cislo)"
      ],
      "metadata": {
        "colab": {
          "base_uri": "https://localhost:8080/"
        },
        "id": "yMqHCfhEGjWD",
        "outputId": "ce84e73d-7925-4b5f-c79d-d63c7c31034a"
      },
      "execution_count": null,
      "outputs": [
        {
          "output_type": "stream",
          "name": "stdout",
          "text": [
            "Vloz cislo :20.5\n",
            "20.5\n",
            "4.878048780487805\n"
          ]
        }
      ]
    },
    {
      "cell_type": "code",
      "source": [
        "# podminky, vicenasobne vetveni if, elif, else\n",
        "cislo = int(input(\"Vloz cislo :\"))\n",
        "if cislo <= 10 :\n",
        "  print(cislo, \"je mensi nebo rovno 10\")\n",
        "elif cislo > 10 and cislo <=20 :\n",
        "  print(cislo, \"je vetsi nez 10 a mensi nebo rovno 20\")\n",
        "else :\n",
        "  print(cislo, \"je vetsi nez 20\")"
      ],
      "metadata": {
        "colab": {
          "base_uri": "https://localhost:8080/"
        },
        "id": "LFdQ7Sso-xXB",
        "outputId": "3ee9c7c1-b268-441e-c38a-64e4b8a2079f"
      },
      "execution_count": 7,
      "outputs": [
        {
          "output_type": "stream",
          "name": "stdout",
          "text": [
            "Vloz cislo :100\n",
            "100 je vetsi nez 20\n"
          ]
        }
      ]
    },
    {
      "cell_type": "code",
      "execution_count": null,
      "metadata": {
        "colab": {
          "base_uri": "https://localhost:8080/"
        },
        "id": "NWrbX3UNR2Tc",
        "outputId": "c6e3dea2-e4d2-489c-9701-9b8059ca62d3"
      },
      "outputs": [
        {
          "output_type": "stream",
          "name": "stdout",
          "text": [
            "tralala pytel print\n",
            "TRALALA PYTEL PRINT\n",
            "Tralala Pytel Print\n",
            "GB\n"
          ]
        }
      ],
      "source": [
        "countries=['USA','CR','GB','China']   # 0,1,2,3\n",
        "print(countries[2])"
      ]
    },
    {
      "cell_type": "code",
      "execution_count": null,
      "metadata": {
        "colab": {
          "base_uri": "https://localhost:8080/"
        },
        "id": "bzxpWmeGSb_S",
        "outputId": "4f60aff3-3353-42c0-a882-5dae63db1010"
      },
      "outputs": [
        {
          "output_type": "stream",
          "name": "stdout",
          "text": [
            "China\n",
            "Brasil\n",
            "['Spain', 'USA', 'CR', 'GB', 'China', 'Brasil']\n",
            "-----------------hello jetecko!\n",
            "3\n",
            "0 ... test\n",
            "1 ... test\n",
            "2 ... test\n",
            "3 ... test\n",
            "4 ... test\n",
            "j= 0     j+5= 5\n",
            "j= 1     j+5= 6\n",
            "j= 2     j+5= 7\n",
            "j= 3     j+5= 8\n",
            "j= 4     j+5= 9\n",
            "j= 5     j+5= 10\n",
            "j= 6     j+5= 11\n",
            "j= 7     j+5= 12\n",
            "j= 8     j+5= 13\n",
            "j= 9     j+5= 14\n"
          ]
        }
      ],
      "source": [
        "print(countries[3])\n",
        "countries.append('Brasil')\n",
        "print(countries[4])\n",
        "\n",
        "countries.insert(0,'Spain')\n",
        "print(countries[0:6])\n",
        "\n",
        "\n",
        "print('-----------------hello jetecko!')\n",
        "print(1 + 2)\n",
        "\n",
        "for i in range(5):\n",
        "  \tprint(i, '... test')\n",
        "\n",
        "for j in range(10):\n",
        "\t\tprint('j=', j, '    j+5=', j + 5)\n"
      ]
    },
    {
      "cell_type": "code",
      "execution_count": null,
      "metadata": {
        "colab": {
          "base_uri": "https://localhost:8080/",
          "height": 430
        },
        "id": "uukbQIi9S6lV",
        "outputId": "b450f041-59eb-45cf-f228-9afcd120792d"
      },
      "outputs": [
        {
          "output_type": "display_data",
          "data": {
            "text/plain": [
              "<Figure size 640x480 with 1 Axes>"
            ],
            "image/png": "[encoded data removed]"
          },
          "metadata": {}
        }
      ],
      "source": [
        "import matplotlib.pyplot as plt\n",
        "x=[1,2,3,4,5,6,7,8.9]\n",
        "y=[2,4,6,9,12,16,24,34]\n",
        "\n",
        "plt.bar(x,y, label= 'data1', color='red')\n",
        "plt.bar(y,x, label= 'data2', color='blue')\n",
        "plt.legend()\n",
        "plt.show()"
      ]
    },
    {
      "cell_type": "code",
      "source": [
        "#OOP\n",
        "\n",
        "class Nemovitost:\n",
        "      def calculate_RC (self,m3,jc):                                                                              # metoda pocita reprodukcni cenu\n",
        "       return m3*jc\n",
        "\n",
        "      def calculate_OPOTREBENI (self,age,life):                                                                   # metoda pocita opotrebeni\n",
        "       return (age/life)*100\n",
        "\n",
        "      def print_nemovitost (self,m3,jc,age,life):\n",
        "       return (print(\n",
        "                     \"\\n-------------------------------\\n\"\n",
        "                     \"Sheet of nemovitost :\"\n",
        "                     ,self.name,\"\\n\"\n",
        "                     ,\"RC = \",self.calculate_RC(self.m3, self.jc),\"Kč \\n\"\n",
        "                     ,\"opotrebeni = \",self.calculate_OPOTREBENI(self.age, self.life), \"% \\n\"\n",
        "                    )\n",
        "              )\n",
        "\n",
        "nem1 = Nemovitost()                                                                                               # instance tridy Nemovitost\n",
        "nem1.name = \"rodinný dům č.p.224, Nová ves\"\n",
        "nem1.m3 = 500                                                                                                     # deklarace parametru tridy\n",
        "nem1.jc = 7500\n",
        "nem1.age = 11\n",
        "nem1.life = 100\n",
        "\n",
        "\n",
        "nem2 = Nemovitost()                                                                                               # instance tridy Nemovitost\n",
        "nem2.name = \"rodinný dům č.p.666, Peklo\"\n",
        "nem2.age = 9                                                                                                      # deklarace parametru tridy\n",
        "nem2.life = 100\n",
        "\n",
        "\n",
        "print(\"Reprodukcni cena nemovitosti :\", nem1.name, \" = \", nem1.calculate_RC(nem1.m3, nem1.jc), \"Kč\")              # pouziti metody tridy\n",
        "print(\"Opotrebeni nemovitosti :\", nem2.name, \" = \", nem2.calculate_OPOTREBENI(nem2.age, nem2.life),\"%\")           # pouziti metody tridy\n",
        "nem1.print_nemovitost(nem1.m3, nem1.jc, nem1.age, nem1.life)\n",
        "\n"
      ],
      "metadata": {
        "colab": {
          "base_uri": "https://localhost:8080/"
        },
        "id": "Ye0ZBV_LXRXD",
        "outputId": "76011e6d-4d33-44a4-e82c-cdec3b349e7c"
      },
      "execution_count": null,
      "outputs": [
        {
          "output_type": "stream",
          "name": "stdout",
          "text": [
            "Reprodukcni cena nemovitosti : rodinný dům č.p.224, Nová ves  =  3750000 Kč\n",
            "Opotrebeni nemovitosti : rodinný dům č.p.666, Peklo  =  9.0 %\n",
            "\n",
            "-------------------------------\n",
            "Sheet of nemovitost : rodinný dům č.p.224, Nová ves \n",
            " RC =  3750000 Kč \n",
            " opotrebeni =  11.0 % \n",
            "\n"
          ]
        }
      ]
    },
    {
      "cell_type": "code",
      "source": [
        "import os\n",
        "filename = \"hello.html\"\n",
        "path = os.path.abspath(filename)\n",
        "print(path)\n",
        "\n",
        "with open(path, \"w\") as f:\n",
        "    f.write(\"<html>\\n\")\n",
        "    f.write(\"<head>\\n\")\n",
        "    f.write(\"<title>Hello, World!</title>\\n\")\n",
        "    f.write(\"</head>\\n\")\n",
        "    f.write(\"<body>\\n\")\n",
        "    f.write(\"<h1>Hello, World!</h1>\\n\")\n",
        "    f.write(\"</body>\\n\")\n",
        "    f.write(\"</html>\\n\")\n",
        "    f.close()"
      ],
      "metadata": {
        "colab": {
          "base_uri": "https://localhost:8080/"
        },
        "id": "vV_e1OvAc-oZ",
        "outputId": "541ba476-ab71-41f4-8670-e9ac1f239260"
      },
      "execution_count": null,
      "outputs": [
        {
          "output_type": "stream",
          "name": "stdout",
          "text": [
            "/content/hello.html\n"
          ]
        }
      ]
    },
    {
      "cell_type": "code",
      "source": [
        "import os\n",
        "\n",
        "# Get the current working\n",
        "# directory (CWD)\n",
        "cwd = os.getcwd()\n",
        "\n",
        "# Print the current working\n",
        "# directory (CWD)\n",
        "print(\"Current working directory:\", cwd)"
      ],
      "metadata": {
        "colab": {
          "base_uri": "https://localhost:8080/"
        },
        "id": "0F5kkdU70dC9",
        "outputId": "3ff85095-14bf-45ee-9a6e-bb7c6dd5f486"
      },
      "execution_count": null,
      "outputs": [
        {
          "output_type": "stream",
          "name": "stdout",
          "text": [
            "Current working directory: /content\n"
          ]
        }
      ]
    },
    {
      "cell_type": "code",
      "source": [
        "from google.colab import drive\n",
        "drive.mount('/content/drive')"
      ],
      "metadata": {
        "colab": {
          "base_uri": "https://localhost:8080/"
        },
        "id": "CR0sYi-x4MSW",
        "outputId": "4ba192f8-c86f-486c-f256-1d079872f3cd"
      },
      "execution_count": null,
      "outputs": [
        {
          "output_type": "stream",
          "name": "stdout",
          "text": [
            "Drive already mounted at /content/drive; to attempt to forcibly remount, call drive.mount(\"/content/drive\", force_remount=True).\n"
          ]
        }
      ]
    }
  ],
  "metadata": {
    "colab": {
      "provenance": [],
      "toc_visible": true,
      "mount_file_id": "1xTSqBnDV019J_w70fcrKo99srR783scZ",
      "authorship_tag": "ABX9TyO+Jn/9ksgVikKEhGbY4xtw",
      "include_colab_link": true
    },
    "kernelspec": {
      "display_name": "Python 3",
      "language": "python",
      "name": "python3"
    },
    "language_info": {
      "codemirror_mode": {
        "name": "ipython",
        "version": 3
      },
      "file_extension": ".py",
      "mimetype": "text/x-python",
      "name": "python",
      "nbconvert_exporter": "python",
      "pygments_lexer": "ipython3",
      "version": "3.11.1"
    },
    "vscode": {
      "interpreter": {
        "hash": "5164bc7fec9b794dcec861c8ecf98b0752d4006140f1470fb85942dad0190a63"
      }
    }
  },
  "nbformat": 4,
  "nbformat_minor": 0
}